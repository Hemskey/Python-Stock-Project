{
 "cells": [
  {
   "cell_type": "code",
   "execution_count": 2,
   "metadata": {},
   "outputs": [],
   "source": [
    "import matplotlib.pyplot as plt\n",
    "import seaborn as sns\n",
    "import numpy as np\n",
    "import pandas as pd\n",
    "import quandl as ql\n",
    "\n",
    "import bs4 as bs    \n",
    "import pickle    \n",
    "import requests    \n",
    "import lxml\n",
    "\n",
    "import os.path\n",
    "import urllib\n",
    "from IPython.display import clear_output\n",
    "\n",
    "%matplotlib inline"
   ]
  },
  {
   "cell_type": "code",
   "execution_count": 3,
   "metadata": {},
   "outputs": [],
   "source": [
    "#pulls the information from Wikipedia on the current S&P500 companies\n",
    "def saveTickersSP500():\n",
    "    tickers = []\n",
    "    resp = requests.get('https://en.wikipedia.org/wiki/List_of_S%26P_500_companies')        \n",
    "    soup = bs.BeautifulSoup(resp.text,'lxml')        \n",
    "    table = soup.find('table', {'class': 'wikitable sortable'})        \n",
    "\n",
    "    for row in table.findAll('tr')[1:]:\n",
    "        ticker = row.findAll('td')[0].text\n",
    "        tickers.append(ticker.split('\\n')[0])\n",
    "        \n",
    "    clear_output()\n",
    "        \n",
    "    return tickers    "
   ]
  },
  {
   "cell_type": "code",
   "execution_count": 4,
   "metadata": {},
   "outputs": [],
   "source": [
    "#builds the url needed to make the API call for the raw data, given a ticker symbol and api key\n",
    "def makeUrl(ticker_symbol, date):\n",
    "    lock = \"ARgNDD47ESTvwYsQbsGM\"\n",
    "    base_url = \"https://www.quandl.com/api/v3/datasets/WIKI/\"\n",
    "    return base_url + \"{0}.csv?start_date={1}&api_key={2}\".format(ticker_symbol,date,lock)\n",
    "\n",
    "#Creates the output path, given the ticker symbol\n",
    "def makeFilename(ticker_symbol):\n",
    "    output_path = \"C:/Users/joema/Desktop/Refactored_Py_DS_ML_Bootcamp-master/Stock Project/S&P\"\n",
    "    return output_path + \"/\" + ticker_symbol + \".csv\"\n",
    "\n",
    "#makes the API call for the ticker symbol and stores it in the desired output path\n",
    "def pullHistoricalData(ticker_symbol, date):\n",
    "    try:\n",
    "        urllib.request.urlretrieve(makeUrl(ticker_symbol, date), makeFilename(ticker_symbol))\n",
    "    except Exception as e:\n",
    "        print(\"Unable to create CSV for : \" + ticker_symbol)\n",
    "        print(e)"
   ]
  },
  {
   "cell_type": "code",
   "execution_count": 6,
   "metadata": {},
   "outputs": [],
   "source": [
    "#refreshes raw data - however should allow for passing in a user defined date\n",
    "def refreshData():\n",
    "    tickers = saveTickersSP500()\n",
    "    for i in tickers:\n",
    "        pullHistoricalData(i, \"2007-01-01\")"
   ]
  },
  {
   "cell_type": "code",
   "execution_count": 7,
   "metadata": {},
   "outputs": [],
   "source": [
    "#returns the raw data from the local directory, and performs a reindex to present the data in reverse\n",
    "#chronological order\n",
    "def readTickerCSV(ticker_symbol):\n",
    "        df = pd.read_csv('C:/Users/joema/Desktop/Refactored_Py_DS_ML_Bootcamp-master/Stock Project/S&P/'\n",
    "                         + '{0}.csv'.format(ticker_symbol))\n",
    "        df = df.reindex(index=df.index[::-1])\n",
    "        df.reset_index(drop=True,inplace=True)\n",
    "        return df"
   ]
  },
  {
   "cell_type": "code",
   "execution_count": 8,
   "metadata": {},
   "outputs": [],
   "source": [
    "#returns the cleaned CSV from the local directory\n",
    "def readCleanedTickerCSV(ticker_symbol):\n",
    "        df = pd.read_csv('C:/Users/joema/Desktop/Refactored_Py_DS_ML_Bootcamp-master/Stock Project/S_P_Cleaned/'\n",
    "                         + '{0}_cleaned.csv'.format(ticker_symbol))\n",
    "        return df"
   ]
  },
  {
   "cell_type": "code",
   "execution_count": 9,
   "metadata": {},
   "outputs": [],
   "source": [
    "#retrieves the tickers in the SP500\n",
    "#Cleaned variable is to return the cleaned Dataframes stored locally\n",
    "def tickerList(cleaned: bool):\n",
    "    tickers = saveTickersSP500()\n",
    "    ticker_list = {}\n",
    "    for i in tickers:\n",
    "        try:\n",
    "            if cleaned:\n",
    "                ticker_list[i] = readCleanedTickerCSV(i)\n",
    "            else:\n",
    "                ticker_list[i] = readTickerCSV(i)\n",
    "        except Exception as e:\n",
    "            continue\n",
    "    return ticker_list"
   ]
  },
  {
   "cell_type": "code",
   "execution_count": 10,
   "metadata": {},
   "outputs": [],
   "source": [
    "#remove the columns not used in the analysis\n",
    "#create columns in the DF for the EMA's (3,10,30,100)\n",
    "#create columns for the logic needed to invest or not\n",
    "def cleanDf(df):\n",
    "    df['adjClose'] = df['Adj. Close']\n",
    "    df = df[['Date','adjClose']]\n",
    "    df['3EMA'] = df.adjClose.ewm(span=3, adjust=False).mean()\n",
    "    df['10EMA'] = df.adjClose.ewm(span=10, adjust=False).mean()\n",
    "    df['30EMA'] = df.adjClose.ewm(span=30, adjust=False).mean()\n",
    "    df['100EMA'] = df.adjClose.ewm(span=100, adjust=False).mean()\n",
    "    df['Invest'] = 0\n",
    "    df['LongTerm'] = 0\n",
    "    df['Cash'] = 0\n",
    "    df['Shares'] = 0\n",
    "    df['RoI'] = 0\n",
    "    print('cleaning done')\n",
    "    return(df)"
   ]
  },
  {
   "cell_type": "code",
   "execution_count": 56,
   "metadata": {},
   "outputs": [],
   "source": [
    "#In the column LongTerm, set each row to 1 if:\n",
    "#the 30 EMA is greater than the 100EMA\n",
    "def setBoundries(df):\n",
    "    for i in range(len(df)):\n",
    "        if df['30EMA'][i] > df['100EMA'][i]:\n",
    "            df['LongTerm'][i] = 1\n",
    "    return (df)\n",
    "\n",
    "#in the column Invest, set each row to 1 if: \n",
    "#1 - LongTerm equals 1, and\n",
    "#2 - the 3 day EMA is greater than the 10 day\n",
    "def setInvest(df):\n",
    "    for i in range(len(df)):\n",
    "        if df['LongTerm'][i] == 1:\n",
    "            if df['3EMA'][i] > df['10EMA'][i]:\n",
    "                df['Invest'][i] = 1\n",
    "    return(df)"
   ]
  },
  {
   "cell_type": "code",
   "execution_count": 12,
   "metadata": {},
   "outputs": [],
   "source": [
    "def scoreStock(df, initial):    \n",
    "    cash = initial\n",
    "    initial = initial\n",
    "    shares = 0\n",
    "\n",
    "    for i in range(len(df)):\n",
    "        try:\n",
    "            #the logic below at a high level is to invest when the current row minus the previous row equals 1\n",
    "            invest = df['Invest'][i] - df['Invest'][(i - 1)]\n",
    "            if invest == 1:\n",
    "                if df['LongTerm'][i] == 1:\n",
    "                    #buy stock if longterm and invest = 1\n",
    "                    shares = cash / df['adjClose'][i]\n",
    "                    cash = cash % df['adjClose'][i]\n",
    "                    \n",
    "                    #update shares and cash columns after buying with a full investment\n",
    "                    df['Shares'][i] = shares\n",
    "                    df['Cash'][i] = cash\n",
    "                else:\n",
    "                    #sell the stock if Long Term switches to 0\n",
    "                    cash = shares * df['adjClose'][i]\n",
    "                    \n",
    "                    \n",
    "                    #update shares and cash columns after buying with a full investment\n",
    "                    shares = 0\n",
    "\n",
    "                    df['Shares'][i] = shares\n",
    "                    df['Cash'][i] = cash\n",
    "                \n",
    "            #the logic below is for when the current row minus the previous row equals -1, \n",
    "            #signaling the investment should be sold\n",
    "            elif invest == -1:\n",
    "                cash = shares * df['adjClose'][i]\n",
    "    \n",
    "                shares = 0\n",
    "\n",
    "                df['Shares'][i] = shares\n",
    "                df['Cash'][i] = cash\n",
    "                \n",
    "            else:\n",
    "                df['Shares'][i] = shares\n",
    "                df['Cash'][i] = cash\n",
    "\n",
    "        except:\n",
    "                df['Shares'][i] = shares\n",
    "                df['Cash'][i] = cash\n",
    "    return df"
   ]
  },
  {
   "cell_type": "code",
   "execution_count": 13,
   "metadata": {},
   "outputs": [],
   "source": [
    "def findRoi(df, initial):\n",
    "    #calculate ROI for each row of the given dataframe, based on the intial investment\n",
    "    df['RoI'] = (((df['Cash'] + (df['Shares'] * df['adjClose'])) - initial) / initial) * 100\n",
    "    return df"
   ]
  },
  {
   "cell_type": "code",
   "execution_count": null,
   "metadata": {},
   "outputs": [],
   "source": [
    "tickers = tickerList(False)"
   ]
  },
  {
   "cell_type": "code",
   "execution_count": null,
   "metadata": {},
   "outputs": [],
   "source": [
    "for i in tickers:\n",
    "    tickers[i] = cleanDf(tickers[i])\n",
    "    tickers[i] = setBoundries(tickers[i], '30', '100')\n",
    "    tickers[i] = setInvest(tickers[i], '3', '10')\n",
    "    tickers[i] = scoreStock(tickers[i], 1000)\n",
    "    tickers[i] = findRoi(tickers[i], 1000)\n",
    "    print(i)"
   ]
  },
  {
   "cell_type": "code",
   "execution_count": null,
   "metadata": {},
   "outputs": [],
   "source": []
  }
 ],
 "metadata": {
  "kernelspec": {
   "display_name": "Python 3",
   "language": "python",
   "name": "python3"
  },
  "language_info": {
   "codemirror_mode": {
    "name": "ipython",
    "version": 3
   },
   "file_extension": ".py",
   "mimetype": "text/x-python",
   "name": "python",
   "nbconvert_exporter": "python",
   "pygments_lexer": "ipython3",
   "version": "3.6.4"
  }
 },
 "nbformat": 4,
 "nbformat_minor": 2
}
